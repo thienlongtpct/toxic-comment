{
  "nbformat": 4,
  "nbformat_minor": 0,
  "metadata": {
    "colab": {
      "name": "Dataset.ipynb",
      "provenance": [],
      "collapsed_sections": []
    },
    "kernelspec": {
      "name": "python3",
      "display_name": "Python 3"
    },
    "language_info": {
      "name": "python"
    }
  },
  "cells": [
    {
      "cell_type": "code",
      "metadata": {
        "colab": {
          "base_uri": "https://localhost:8080/"
        },
        "id": "rlozA3XIKljF",
        "outputId": "6970ba72-c2fc-4e69-bf6b-594466433a64"
      },
      "source": [
        "from google.colab import drive\n",
        "drive.mount('/content/drive')"
      ],
      "execution_count": 65,
      "outputs": [
        {
          "output_type": "stream",
          "text": [
            "Drive already mounted at /content/drive; to attempt to forcibly remount, call drive.mount(\"/content/drive\", force_remount=True).\n"
          ],
          "name": "stdout"
        }
      ]
    },
    {
      "cell_type": "code",
      "metadata": {
        "id": "C-0ieynVffIq"
      },
      "source": [
        "import numpy as np\n",
        "import pandas as pd\n",
        "import matplotlib.pyplot as plt\n",
        "import seaborn as sns"
      ],
      "execution_count": 66,
      "outputs": []
    },
    {
      "cell_type": "code",
      "metadata": {
        "id": "AqzZURT7LvTe"
      },
      "source": [
        "train = pd.read_csv('/content/drive/MyDrive/Diplom/dataset/train.csv')\n",
        "valid_translated = pd.read_csv('/content/drive/MyDrive/Diplom/dataset/valid_translated.csv')\n",
        "valid = pd.read_csv('/content/drive/MyDrive/Diplom/dataset/validation.csv')\n",
        "test = pd.read_csv('/content/drive/MyDrive/Diplom/dataset/test.csv')"
      ],
      "execution_count": 67,
      "outputs": []
    },
    {
      "cell_type": "markdown",
      "metadata": {
        "id": "nybudaq9Y6aI"
      },
      "source": [
        "Hàm hỗ trợ visu"
      ]
    },
    {
      "cell_type": "code",
      "metadata": {
        "id": "TOtScgLRQ20D"
      },
      "source": [
        "def set_size(w,h, ax=None):\n",
        "    \"\"\" w, h: width, height in inches \"\"\"\n",
        "    if not ax: ax=plt.gca()\n",
        "    l = ax.figure.subplotpars.left\n",
        "    r = ax.figure.subplotpars.right\n",
        "    t = ax.figure.subplotpars.top\n",
        "    b = ax.figure.subplotpars.bottom\n",
        "    figw = float(w)/(r-l)\n",
        "    figh = float(h)/(t-b)\n",
        "    ax.figure.set_size_inches(figw, figh)\n"
      ],
      "execution_count": 68,
      "outputs": []
    },
    {
      "cell_type": "markdown",
      "metadata": {
        "id": "rLe60QD_MQ-Q"
      },
      "source": [
        "# TRAIN VISU"
      ]
    },
    {
      "cell_type": "markdown",
      "metadata": {
        "id": "8TAV074jMbHZ"
      },
      "source": [
        "Thông tin chung"
      ]
    },
    {
      "cell_type": "code",
      "metadata": {
        "colab": {
          "base_uri": "https://localhost:8080/"
        },
        "id": "98_UR0NqMAYj",
        "outputId": "502cb61b-ecad-465e-f6f6-b8f7c2064d15"
      },
      "source": [
        "train.info()"
      ],
      "execution_count": 69,
      "outputs": [
        {
          "output_type": "stream",
          "text": [
            "<class 'pandas.core.frame.DataFrame'>\n",
            "RangeIndex: 223549 entries, 0 to 223548\n",
            "Data columns (total 8 columns):\n",
            " #   Column         Non-Null Count   Dtype \n",
            "---  ------         --------------   ----- \n",
            " 0   id             223549 non-null  object\n",
            " 1   comment_text   223549 non-null  object\n",
            " 2   toxic          223549 non-null  int64 \n",
            " 3   severe_toxic   223549 non-null  int64 \n",
            " 4   obscene        223549 non-null  int64 \n",
            " 5   threat         223549 non-null  int64 \n",
            " 6   insult         223549 non-null  int64 \n",
            " 7   identity_hate  223549 non-null  int64 \n",
            "dtypes: int64(6), object(2)\n",
            "memory usage: 13.6+ MB\n"
          ],
          "name": "stdout"
        }
      ]
    },
    {
      "cell_type": "markdown",
      "metadata": {
        "id": "B_cvFtOrMV7n"
      },
      "source": [
        "10 ví dụ đầu"
      ]
    },
    {
      "cell_type": "code",
      "metadata": {
        "colab": {
          "base_uri": "https://localhost:8080/",
          "height": 343
        },
        "id": "ijXeNxxHMMot",
        "outputId": "e804ad24-c47a-4f0e-9fdf-64c4bc7d5205"
      },
      "source": [
        "train.head(10)"
      ],
      "execution_count": 70,
      "outputs": [
        {
          "output_type": "execute_result",
          "data": {
            "text/html": [
              "<div>\n",
              "<style scoped>\n",
              "    .dataframe tbody tr th:only-of-type {\n",
              "        vertical-align: middle;\n",
              "    }\n",
              "\n",
              "    .dataframe tbody tr th {\n",
              "        vertical-align: top;\n",
              "    }\n",
              "\n",
              "    .dataframe thead th {\n",
              "        text-align: right;\n",
              "    }\n",
              "</style>\n",
              "<table border=\"1\" class=\"dataframe\">\n",
              "  <thead>\n",
              "    <tr style=\"text-align: right;\">\n",
              "      <th></th>\n",
              "      <th>id</th>\n",
              "      <th>comment_text</th>\n",
              "      <th>toxic</th>\n",
              "      <th>severe_toxic</th>\n",
              "      <th>obscene</th>\n",
              "      <th>threat</th>\n",
              "      <th>insult</th>\n",
              "      <th>identity_hate</th>\n",
              "    </tr>\n",
              "  </thead>\n",
              "  <tbody>\n",
              "    <tr>\n",
              "      <th>0</th>\n",
              "      <td>0000997932d777bf</td>\n",
              "      <td>Explanation\\nWhy the edits made under my usern...</td>\n",
              "      <td>0</td>\n",
              "      <td>0</td>\n",
              "      <td>0</td>\n",
              "      <td>0</td>\n",
              "      <td>0</td>\n",
              "      <td>0</td>\n",
              "    </tr>\n",
              "    <tr>\n",
              "      <th>1</th>\n",
              "      <td>000103f0d9cfb60f</td>\n",
              "      <td>D'aww! He matches this background colour I'm s...</td>\n",
              "      <td>0</td>\n",
              "      <td>0</td>\n",
              "      <td>0</td>\n",
              "      <td>0</td>\n",
              "      <td>0</td>\n",
              "      <td>0</td>\n",
              "    </tr>\n",
              "    <tr>\n",
              "      <th>2</th>\n",
              "      <td>000113f07ec002fd</td>\n",
              "      <td>Hey man, I'm really not trying to edit war. It...</td>\n",
              "      <td>0</td>\n",
              "      <td>0</td>\n",
              "      <td>0</td>\n",
              "      <td>0</td>\n",
              "      <td>0</td>\n",
              "      <td>0</td>\n",
              "    </tr>\n",
              "    <tr>\n",
              "      <th>3</th>\n",
              "      <td>0001b41b1c6bb37e</td>\n",
              "      <td>\"\\nMore\\nI can't make any real suggestions on ...</td>\n",
              "      <td>0</td>\n",
              "      <td>0</td>\n",
              "      <td>0</td>\n",
              "      <td>0</td>\n",
              "      <td>0</td>\n",
              "      <td>0</td>\n",
              "    </tr>\n",
              "    <tr>\n",
              "      <th>4</th>\n",
              "      <td>0001d958c54c6e35</td>\n",
              "      <td>You, sir, are my hero. Any chance you remember...</td>\n",
              "      <td>0</td>\n",
              "      <td>0</td>\n",
              "      <td>0</td>\n",
              "      <td>0</td>\n",
              "      <td>0</td>\n",
              "      <td>0</td>\n",
              "    </tr>\n",
              "    <tr>\n",
              "      <th>5</th>\n",
              "      <td>00025465d4725e87</td>\n",
              "      <td>\"\\n\\nCongratulations from me as well, use the ...</td>\n",
              "      <td>0</td>\n",
              "      <td>0</td>\n",
              "      <td>0</td>\n",
              "      <td>0</td>\n",
              "      <td>0</td>\n",
              "      <td>0</td>\n",
              "    </tr>\n",
              "    <tr>\n",
              "      <th>6</th>\n",
              "      <td>0002bcb3da6cb337</td>\n",
              "      <td>COCKSUCKER BEFORE YOU PISS AROUND ON MY WORK</td>\n",
              "      <td>1</td>\n",
              "      <td>1</td>\n",
              "      <td>1</td>\n",
              "      <td>0</td>\n",
              "      <td>1</td>\n",
              "      <td>0</td>\n",
              "    </tr>\n",
              "    <tr>\n",
              "      <th>7</th>\n",
              "      <td>00031b1e95af7921</td>\n",
              "      <td>Your vandalism to the Matt Shirvington article...</td>\n",
              "      <td>0</td>\n",
              "      <td>0</td>\n",
              "      <td>0</td>\n",
              "      <td>0</td>\n",
              "      <td>0</td>\n",
              "      <td>0</td>\n",
              "    </tr>\n",
              "    <tr>\n",
              "      <th>8</th>\n",
              "      <td>00037261f536c51d</td>\n",
              "      <td>Sorry if the word 'nonsense' was offensive to ...</td>\n",
              "      <td>0</td>\n",
              "      <td>0</td>\n",
              "      <td>0</td>\n",
              "      <td>0</td>\n",
              "      <td>0</td>\n",
              "      <td>0</td>\n",
              "    </tr>\n",
              "    <tr>\n",
              "      <th>9</th>\n",
              "      <td>00040093b2687caa</td>\n",
              "      <td>alignment on this subject and which are contra...</td>\n",
              "      <td>0</td>\n",
              "      <td>0</td>\n",
              "      <td>0</td>\n",
              "      <td>0</td>\n",
              "      <td>0</td>\n",
              "      <td>0</td>\n",
              "    </tr>\n",
              "  </tbody>\n",
              "</table>\n",
              "</div>"
            ],
            "text/plain": [
              "                 id  ... identity_hate\n",
              "0  0000997932d777bf  ...             0\n",
              "1  000103f0d9cfb60f  ...             0\n",
              "2  000113f07ec002fd  ...             0\n",
              "3  0001b41b1c6bb37e  ...             0\n",
              "4  0001d958c54c6e35  ...             0\n",
              "5  00025465d4725e87  ...             0\n",
              "6  0002bcb3da6cb337  ...             0\n",
              "7  00031b1e95af7921  ...             0\n",
              "8  00037261f536c51d  ...             0\n",
              "9  00040093b2687caa  ...             0\n",
              "\n",
              "[10 rows x 8 columns]"
            ]
          },
          "metadata": {
            "tags": []
          },
          "execution_count": 70
        }
      ]
    },
    {
      "cell_type": "markdown",
      "metadata": {
        "id": "0Rq1PmG3MfOb"
      },
      "source": [
        "Tạo đồ thị"
      ]
    },
    {
      "cell_type": "code",
      "metadata": {
        "id": "sv4lEFDmMjqA"
      },
      "source": [
        "train_toxic = train.toxic.to_list().count(1)\n",
        "train_non_toxic = train.toxic.to_list().count(0)\n",
        "\n",
        "train_severe_toxic = train.severe_toxic.to_list().count(1)\n",
        "train_obscene = train.obscene.to_list().count(1)\n",
        "train_threat = train.threat.to_list().count(1)\n",
        "train_insult = train.insult.to_list().count(1)\n",
        "train_identity_hate = train.identity_hate.to_list().count(1)"
      ],
      "execution_count": 71,
      "outputs": []
    },
    {
      "cell_type": "markdown",
      "metadata": {
        "id": "lK1bE_fzVhhX"
      },
      "source": [
        "Toxic vs Non-toxic"
      ]
    },
    {
      "cell_type": "code",
      "metadata": {
        "colab": {
          "base_uri": "https://localhost:8080/",
          "height": 694
        },
        "id": "KmI__HdBVqxn",
        "outputId": "1ab350e4-a172-4181-b6f0-afe1e57e83ff"
      },
      "source": [
        "fig, ax = plt.subplots()\n",
        "\n",
        "bar_list = ax.bar(['Non-toxic comment', 'Toxic comment'], [train_non_toxic, train_toxic], width=0.8)\n",
        "\n",
        "labels = [train_non_toxic, train_toxic]\n",
        "\n",
        "for i, v in enumerate(labels):\n",
        "    ax.text(i, labels[i]+3000, labels[i],  fontsize=12, ha='center', va='bottom')\n",
        "\n",
        "set_size(3.5, 8)\n",
        "\n",
        "bar_list[0].set_color('g')\n",
        "bar_list[1].set_color('r')\n",
        "\n",
        "plt.title('Non-toxic vs Toxic in train dataset', fontdict={'fontsize': 20}, pad=20)\n",
        "plt.xlabel('Classes', fontdict={'fontsize': 15}, labelpad=20)\n",
        "plt.ylabel('Comment\\'s number', fontdict={'fontsize': 15}, labelpad=20)\n",
        "\n",
        "fig.show()"
      ],
      "execution_count": 72,
      "outputs": [
        {
          "output_type": "display_data",
          "data": {
            "image/png": "[encoded data removed]",
            "text/plain": [
              "<Figure size 325.161x762.914 with 1 Axes>"
            ]
          },
          "metadata": {
            "tags": [],
            "needs_background": "light"
          }
        }
      ]
    },
    {
      "cell_type": "markdown",
      "metadata": {
        "id": "FQ5hY5cyY0wh"
      },
      "source": [
        "Toxic comments per Classes"
      ]
    },
    {
      "cell_type": "code",
      "metadata": {
        "colab": {
          "base_uri": "https://localhost:8080/",
          "height": 704
        },
        "id": "puecAjkWNsFp",
        "outputId": "a432a17f-0d17-44ac-f0f2-f501c0f4ba38"
      },
      "source": [
        "fig, ax = plt.subplots()\n",
        "\n",
        "bar_list = ax.bar(['All toxic', 'Severe toxic', 'Obscene', 'Threat', 'Insult', 'Identity_hate'], [train_toxic, train_severe_toxic, train_obscene, train_threat, train_insult, train_identity_hate], width=0.8)\n",
        "\n",
        "labels = [train_toxic, train_severe_toxic, train_obscene, train_threat, train_insult, train_identity_hate]\n",
        "\n",
        "for i, v in enumerate(labels):\n",
        "    ax.text(i, labels[i]+300, labels[i],  fontsize=12, ha='center', va='bottom')\n",
        "\n",
        "set_size(10, 8)\n",
        "\n",
        "bar_list[0].set_color('r')\n",
        "\n",
        "plt.title('Toxic comments per Classes', fontdict={'fontsize': 32}, pad=20)\n",
        "plt.xlabel('Classes', fontdict={'fontsize': 15}, labelpad=20)\n",
        "plt.ylabel('Comment\\'s number', fontdict={'fontsize': 15}, labelpad=20)\n",
        "\n",
        "fig.show()"
      ],
      "execution_count": 73,
      "outputs": [
        {
          "output_type": "display_data",
          "data": {
            "image/png": "[encoded data removed]",
            "text/plain": [
              "<Figure size 929.032x762.914 with 1 Axes>"
            ]
          },
          "metadata": {
            "tags": [],
            "needs_background": "light"
          }
        }
      ]
    },
    {
      "cell_type": "markdown",
      "metadata": {
        "id": "VZe_fT_WNKXD"
      },
      "source": [
        "Theo length comment"
      ]
    },
    {
      "cell_type": "code",
      "metadata": {
        "colab": {
          "base_uri": "https://localhost:8080/",
          "height": 631
        },
        "id": "QvgJJxuqZB6w",
        "outputId": "a21ec0f2-1402-41c2-8203-227500e2a506"
      },
      "source": [
        "length_list = np.array([len(i.split()) for i in train.comment_text.to_list()])\n",
        "plt.hist(length_list, bins=100)\n",
        "set_size(15, 7)\n",
        "plt.title('Classification by length', fontdict={'fontsize': 32}, pad=20)\n",
        "plt.xlabel('Length', fontdict={'fontsize': 15}, labelpad=20)\n",
        "plt.ylabel('Comment\\'s number', fontdict={'fontsize': 15}, labelpad=20)\n",
        "plt.xlim((0, 1000))\n",
        "plt.show()"
      ],
      "execution_count": 74,
      "outputs": [
        {
          "output_type": "display_data",
          "data": {
            "image/png": "[encoded data removed]",
            "text/plain": [
              "<Figure size 1393.55x667.55 with 1 Axes>"
            ]
          },
          "metadata": {
            "tags": [],
            "needs_background": "light"
          }
        }
      ]
    },
    {
      "cell_type": "markdown",
      "metadata": {
        "id": "Ivqp1zmzfQFz"
      },
      "source": [
        "# VALIDATION VISU"
      ]
    },
    {
      "cell_type": "code",
      "metadata": {
        "colab": {
          "base_uri": "https://localhost:8080/"
        },
        "id": "ILkC7Qy-c4iR",
        "outputId": "17daecde-9fdc-49e4-92f9-701349381e4c"
      },
      "source": [
        "valid.info()"
      ],
      "execution_count": 75,
      "outputs": [
        {
          "output_type": "stream",
          "text": [
            "<class 'pandas.core.frame.DataFrame'>\n",
            "RangeIndex: 8000 entries, 0 to 7999\n",
            "Data columns (total 4 columns):\n",
            " #   Column        Non-Null Count  Dtype \n",
            "---  ------        --------------  ----- \n",
            " 0   id            8000 non-null   int64 \n",
            " 1   comment_text  8000 non-null   object\n",
            " 2   lang          8000 non-null   object\n",
            " 3   toxic         8000 non-null   int64 \n",
            "dtypes: int64(2), object(2)\n",
            "memory usage: 250.1+ KB\n"
          ],
          "name": "stdout"
        }
      ]
    },
    {
      "cell_type": "code",
      "metadata": {
        "colab": {
          "base_uri": "https://localhost:8080/",
          "height": 343
        },
        "id": "ik2v5uUVfqYy",
        "outputId": "de20cdd2-efe8-46b5-8d02-79c6b3e19eda"
      },
      "source": [
        "valid.head(10)"
      ],
      "execution_count": 76,
      "outputs": [
        {
          "output_type": "execute_result",
          "data": {
            "text/html": [
              "<div>\n",
              "<style scoped>\n",
              "    .dataframe tbody tr th:only-of-type {\n",
              "        vertical-align: middle;\n",
              "    }\n",
              "\n",
              "    .dataframe tbody tr th {\n",
              "        vertical-align: top;\n",
              "    }\n",
              "\n",
              "    .dataframe thead th {\n",
              "        text-align: right;\n",
              "    }\n",
              "</style>\n",
              "<table border=\"1\" class=\"dataframe\">\n",
              "  <thead>\n",
              "    <tr style=\"text-align: right;\">\n",
              "      <th></th>\n",
              "      <th>id</th>\n",
              "      <th>comment_text</th>\n",
              "      <th>lang</th>\n",
              "      <th>toxic</th>\n",
              "    </tr>\n",
              "  </thead>\n",
              "  <tbody>\n",
              "    <tr>\n",
              "      <th>0</th>\n",
              "      <td>0</td>\n",
              "      <td>Este usuario ni siquiera llega al rango de    ...</td>\n",
              "      <td>es</td>\n",
              "      <td>0</td>\n",
              "    </tr>\n",
              "    <tr>\n",
              "      <th>1</th>\n",
              "      <td>1</td>\n",
              "      <td>Il testo di questa voce pare esser scopiazzato...</td>\n",
              "      <td>it</td>\n",
              "      <td>0</td>\n",
              "    </tr>\n",
              "    <tr>\n",
              "      <th>2</th>\n",
              "      <td>2</td>\n",
              "      <td>Vale. Sólo expongo mi pasado. Todo tiempo pasa...</td>\n",
              "      <td>es</td>\n",
              "      <td>1</td>\n",
              "    </tr>\n",
              "    <tr>\n",
              "      <th>3</th>\n",
              "      <td>3</td>\n",
              "      <td>Bu maddenin alt başlığı olarak  uluslararası i...</td>\n",
              "      <td>tr</td>\n",
              "      <td>0</td>\n",
              "    </tr>\n",
              "    <tr>\n",
              "      <th>4</th>\n",
              "      <td>4</td>\n",
              "      <td>Belçika nın şehirlerinin yanında ilçe ve belde...</td>\n",
              "      <td>tr</td>\n",
              "      <td>0</td>\n",
              "    </tr>\n",
              "    <tr>\n",
              "      <th>5</th>\n",
              "      <td>5</td>\n",
              "      <td>güzel, zaten kaynaklandırması zor subjektif ka...</td>\n",
              "      <td>tr</td>\n",
              "      <td>0</td>\n",
              "    </tr>\n",
              "    <tr>\n",
              "      <th>6</th>\n",
              "      <td>6</td>\n",
              "      <td>No es mala idea. De hecho, yo estaba pensando ...</td>\n",
              "      <td>es</td>\n",
              "      <td>0</td>\n",
              "    </tr>\n",
              "    <tr>\n",
              "      <th>7</th>\n",
              "      <td>7</td>\n",
              "      <td>Kod hatalarını düzeltmişsiniz,elinize sağlık ç...</td>\n",
              "      <td>tr</td>\n",
              "      <td>0</td>\n",
              "    </tr>\n",
              "    <tr>\n",
              "      <th>8</th>\n",
              "      <td>8</td>\n",
              "      <td>Levent Abi nasılsın? Hayat nasıl gidiyor? Umar...</td>\n",
              "      <td>tr</td>\n",
              "      <td>0</td>\n",
              "    </tr>\n",
              "    <tr>\n",
              "      <th>9</th>\n",
              "      <td>9</td>\n",
              "      <td>Creo que es importante que podamos reconocer a...</td>\n",
              "      <td>es</td>\n",
              "      <td>0</td>\n",
              "    </tr>\n",
              "  </tbody>\n",
              "</table>\n",
              "</div>"
            ],
            "text/plain": [
              "   id                                       comment_text lang  toxic\n",
              "0   0  Este usuario ni siquiera llega al rango de    ...   es      0\n",
              "1   1  Il testo di questa voce pare esser scopiazzato...   it      0\n",
              "2   2  Vale. Sólo expongo mi pasado. Todo tiempo pasa...   es      1\n",
              "3   3  Bu maddenin alt başlığı olarak  uluslararası i...   tr      0\n",
              "4   4  Belçika nın şehirlerinin yanında ilçe ve belde...   tr      0\n",
              "5   5  güzel, zaten kaynaklandırması zor subjektif ka...   tr      0\n",
              "6   6  No es mala idea. De hecho, yo estaba pensando ...   es      0\n",
              "7   7  Kod hatalarını düzeltmişsiniz,elinize sağlık ç...   tr      0\n",
              "8   8  Levent Abi nasılsın? Hayat nasıl gidiyor? Umar...   tr      0\n",
              "9   9  Creo que es importante que podamos reconocer a...   es      0"
            ]
          },
          "metadata": {
            "tags": []
          },
          "execution_count": 76
        }
      ]
    },
    {
      "cell_type": "code",
      "metadata": {
        "id": "Hydg9ZIXf33J"
      },
      "source": [
        "valid_toxic = valid.toxic.to_list().count(1)\n",
        "valid_non_toxic = valid.toxic.to_list().count(0)"
      ],
      "execution_count": 77,
      "outputs": []
    },
    {
      "cell_type": "markdown",
      "metadata": {
        "id": "MXj-rv76gmXl"
      },
      "source": [
        "Toxic vs non-toxic"
      ]
    },
    {
      "cell_type": "code",
      "metadata": {
        "colab": {
          "base_uri": "https://localhost:8080/",
          "height": 694
        },
        "id": "JDBJQT61gKo_",
        "outputId": "03693c7d-4095-4329-ec78-03327595f7d6"
      },
      "source": [
        "fig, ax = plt.subplots()\n",
        "\n",
        "bar_list = ax.bar(['Non-toxic comment', 'Toxic comment'], [valid_non_toxic, valid_toxic], width=0.8)\n",
        "\n",
        "labels = [valid_non_toxic, valid_toxic]\n",
        "\n",
        "for i, v in enumerate(labels):\n",
        "    ax.text(i, labels[i]+100, labels[i],  fontsize=12, ha='center', va='bottom')\n",
        "\n",
        "set_size(3.5, 8)\n",
        "\n",
        "bar_list[0].set_color('g')\n",
        "bar_list[1].set_color('r')\n",
        "\n",
        "plt.title('Non-toxic vs Toxic in validation dataset', fontdict={'fontsize': 20}, pad=20)\n",
        "plt.xlabel('Classes', fontdict={'fontsize': 15}, labelpad=20)\n",
        "plt.ylabel('Comment\\'s number', fontdict={'fontsize': 15}, labelpad=20)\n",
        "\n",
        "fig.show()"
      ],
      "execution_count": 78,
      "outputs": [
        {
          "output_type": "display_data",
          "data": {
            "image/png": "[encoded data removed]",
            "text/plain": [
              "<Figure size 325.161x762.914 with 1 Axes>"
            ]
          },
          "metadata": {
            "tags": [],
            "needs_background": "light"
          }
        }
      ]
    },
    {
      "cell_type": "markdown",
      "metadata": {
        "id": "pad07WoHgpVs"
      },
      "source": [
        "Classification by languages"
      ]
    },
    {
      "cell_type": "code",
      "metadata": {
        "colab": {
          "base_uri": "https://localhost:8080/"
        },
        "id": "uRAMHPWIh7Sb",
        "outputId": "d763e57a-e538-4757-c31e-1fe7c0de0ddd"
      },
      "source": [
        "set_language = set([i  for i in valid.lang])\n",
        "print(set_language)"
      ],
      "execution_count": 79,
      "outputs": [
        {
          "output_type": "stream",
          "text": [
            "{'it', 'es', 'tr'}\n"
          ],
          "name": "stdout"
        }
      ]
    },
    {
      "cell_type": "code",
      "metadata": {
        "colab": {
          "base_uri": "https://localhost:8080/",
          "height": 838
        },
        "id": "hU9geJ-Qguoh",
        "outputId": "601fa52d-78f1-4551-863a-9dec21789dfa"
      },
      "source": [
        "fig, ax = plt.subplots()\n",
        "\n",
        "length_list = [valid.lang.to_list().count(i) for i in set_language]\n",
        "\n",
        "bar_list = ax.bar(['Italian', 'Espanol', 'Turkish'], length_list, width=0.8)\n",
        "\n",
        "labels = length_list\n",
        "\n",
        "for i, v in enumerate(labels):\n",
        "    ax.text(i, labels[i]+50, labels[i],  fontsize=12, ha='center', va='bottom')\n",
        "\n",
        "set_size(5, 10)\n",
        "\n",
        "bar_list[0].set_color('g')\n",
        "bar_list[1].set_color('r')\n",
        "\n",
        "plt.title('Classification by Languages', fontdict={'fontsize': 20}, pad=20)\n",
        "plt.xlabel('Languages', fontdict={'fontsize': 15}, labelpad=20)\n",
        "plt.ylabel('Comment\\'s number', fontdict={'fontsize': 15}, labelpad=20)\n",
        "\n",
        "plt.show()"
      ],
      "execution_count": 80,
      "outputs": [
        {
          "output_type": "display_data",
          "data": {
            "image/png": "[encoded data removed]",
            "text/plain": [
              "<Figure size 464.516x953.642 with 1 Axes>"
            ]
          },
          "metadata": {
            "tags": [],
            "needs_background": "light"
          }
        }
      ]
    },
    {
      "cell_type": "markdown",
      "metadata": {
        "id": "Z-ORTkUToS0_"
      },
      "source": [
        "Classification by Length"
      ]
    },
    {
      "cell_type": "code",
      "metadata": {
        "colab": {
          "base_uri": "https://localhost:8080/",
          "height": 631
        },
        "id": "WzRB2HXMg-zC",
        "outputId": "b90f6895-699c-4372-f0da-4d154be4b490"
      },
      "source": [
        "length_list = np.array([len(i.split()) for i in valid.comment_text.to_list()])\n",
        "plt.hist(length_list, bins=50)\n",
        "set_size(15, 7)\n",
        "plt.title('Classification by length', fontdict={'fontsize': 32}, pad=20)\n",
        "plt.xlabel('Length', fontdict={'fontsize': 15}, labelpad=20)\n",
        "plt.ylabel('Comment\\'s number', fontdict={'fontsize': 15}, labelpad=20)\n",
        "plt.xlim((0, 250))\n",
        "plt.show()"
      ],
      "execution_count": 81,
      "outputs": [
        {
          "output_type": "display_data",
          "data": {
            "image/png": "[encoded data removed]",
            "text/plain": [
              "<Figure size 1393.55x667.55 with 1 Axes>"
            ]
          },
          "metadata": {
            "tags": [],
            "needs_background": "light"
          }
        }
      ]
    },
    {
      "cell_type": "markdown",
      "metadata": {
        "id": "yBRQ69yKm7_j"
      },
      "source": [
        "# TEST VISU"
      ]
    },
    {
      "cell_type": "code",
      "metadata": {
        "colab": {
          "base_uri": "https://localhost:8080/"
        },
        "id": "nOffiqUKnE10",
        "outputId": "998b36c2-7575-48d3-fe00-0089f4f0e138"
      },
      "source": [
        "test.info()"
      ],
      "execution_count": 82,
      "outputs": [
        {
          "output_type": "stream",
          "text": [
            "<class 'pandas.core.frame.DataFrame'>\n",
            "RangeIndex: 63812 entries, 0 to 63811\n",
            "Data columns (total 3 columns):\n",
            " #   Column   Non-Null Count  Dtype \n",
            "---  ------   --------------  ----- \n",
            " 0   id       63812 non-null  int64 \n",
            " 1   content  63812 non-null  object\n",
            " 2   lang     63812 non-null  object\n",
            "dtypes: int64(1), object(2)\n",
            "memory usage: 1.5+ MB\n"
          ],
          "name": "stdout"
        }
      ]
    },
    {
      "cell_type": "code",
      "metadata": {
        "colab": {
          "base_uri": "https://localhost:8080/",
          "height": 343
        },
        "id": "9VCA7lFcnJhW",
        "outputId": "7e51deb6-3703-4150-ee8a-4c73b644155e"
      },
      "source": [
        "test.head(10)"
      ],
      "execution_count": 83,
      "outputs": [
        {
          "output_type": "execute_result",
          "data": {
            "text/html": [
              "<div>\n",
              "<style scoped>\n",
              "    .dataframe tbody tr th:only-of-type {\n",
              "        vertical-align: middle;\n",
              "    }\n",
              "\n",
              "    .dataframe tbody tr th {\n",
              "        vertical-align: top;\n",
              "    }\n",
              "\n",
              "    .dataframe thead th {\n",
              "        text-align: right;\n",
              "    }\n",
              "</style>\n",
              "<table border=\"1\" class=\"dataframe\">\n",
              "  <thead>\n",
              "    <tr style=\"text-align: right;\">\n",
              "      <th></th>\n",
              "      <th>id</th>\n",
              "      <th>content</th>\n",
              "      <th>lang</th>\n",
              "    </tr>\n",
              "  </thead>\n",
              "  <tbody>\n",
              "    <tr>\n",
              "      <th>0</th>\n",
              "      <td>0</td>\n",
              "      <td>Doctor Who adlı viki başlığına 12. doctor olar...</td>\n",
              "      <td>tr</td>\n",
              "    </tr>\n",
              "    <tr>\n",
              "      <th>1</th>\n",
              "      <td>1</td>\n",
              "      <td>Вполне возможно, но я пока не вижу необходимо...</td>\n",
              "      <td>ru</td>\n",
              "    </tr>\n",
              "    <tr>\n",
              "      <th>2</th>\n",
              "      <td>2</td>\n",
              "      <td>Quindi tu sei uno di quelli   conservativi  , ...</td>\n",
              "      <td>it</td>\n",
              "    </tr>\n",
              "    <tr>\n",
              "      <th>3</th>\n",
              "      <td>3</td>\n",
              "      <td>Malesef gerçekleştirilmedi ancak şöyle bir şey...</td>\n",
              "      <td>tr</td>\n",
              "    </tr>\n",
              "    <tr>\n",
              "      <th>4</th>\n",
              "      <td>4</td>\n",
              "      <td>:Resim:Seldabagcan.jpg resminde kaynak sorunu ...</td>\n",
              "      <td>tr</td>\n",
              "    </tr>\n",
              "    <tr>\n",
              "      <th>5</th>\n",
              "      <td>5</td>\n",
              "      <td>Le truc le plus important dans ta tirade c est...</td>\n",
              "      <td>fr</td>\n",
              "    </tr>\n",
              "    <tr>\n",
              "      <th>6</th>\n",
              "      <td>6</td>\n",
              "      <td>20px Caro editor, encontramos problemas na edi...</td>\n",
              "      <td>pt</td>\n",
              "    </tr>\n",
              "    <tr>\n",
              "      <th>7</th>\n",
              "      <td>7</td>\n",
              "      <td>el skate es unos de los deportes favoritos de ...</td>\n",
              "      <td>es</td>\n",
              "    </tr>\n",
              "    <tr>\n",
              "      <th>8</th>\n",
              "      <td>8</td>\n",
              "      <td>Me doy la bienvenida. A este usuari le gusta c...</td>\n",
              "      <td>es</td>\n",
              "    </tr>\n",
              "    <tr>\n",
              "      <th>9</th>\n",
              "      <td>9</td>\n",
              "      <td>ES NOTABLEMENTE TENDENCIOSO, NO SE HABLA DE CU...</td>\n",
              "      <td>es</td>\n",
              "    </tr>\n",
              "  </tbody>\n",
              "</table>\n",
              "</div>"
            ],
            "text/plain": [
              "   id                                            content lang\n",
              "0   0  Doctor Who adlı viki başlığına 12. doctor olar...   tr\n",
              "1   1   Вполне возможно, но я пока не вижу необходимо...   ru\n",
              "2   2  Quindi tu sei uno di quelli   conservativi  , ...   it\n",
              "3   3  Malesef gerçekleştirilmedi ancak şöyle bir şey...   tr\n",
              "4   4  :Resim:Seldabagcan.jpg resminde kaynak sorunu ...   tr\n",
              "5   5  Le truc le plus important dans ta tirade c est...   fr\n",
              "6   6  20px Caro editor, encontramos problemas na edi...   pt\n",
              "7   7  el skate es unos de los deportes favoritos de ...   es\n",
              "8   8  Me doy la bienvenida. A este usuari le gusta c...   es\n",
              "9   9  ES NOTABLEMENTE TENDENCIOSO, NO SE HABLA DE CU...   es"
            ]
          },
          "metadata": {
            "tags": []
          },
          "execution_count": 83
        }
      ]
    },
    {
      "cell_type": "markdown",
      "metadata": {
        "id": "iK15qnU9nlDf"
      },
      "source": [
        "Classification by Languages\n"
      ]
    },
    {
      "cell_type": "code",
      "metadata": {
        "colab": {
          "base_uri": "https://localhost:8080/"
        },
        "id": "611bsfqfnqq2",
        "outputId": "2a638f27-348b-416d-ce90-20ef62ae87f7"
      },
      "source": [
        "set_language = set([i  for i in test.lang])\n",
        "print(set_language)"
      ],
      "execution_count": 84,
      "outputs": [
        {
          "output_type": "stream",
          "text": [
            "{'it', 'pt', 'fr', 'tr', 'es', 'ru'}\n"
          ],
          "name": "stdout"
        }
      ]
    },
    {
      "cell_type": "code",
      "metadata": {
        "colab": {
          "base_uri": "https://localhost:8080/",
          "height": 838
        },
        "id": "aVdaxc3UnuTD",
        "outputId": "10ba8f0b-cd79-4755-c21e-238a8d563d39"
      },
      "source": [
        "fig, ax = plt.subplots()\n",
        "\n",
        "length_list = [test.lang.to_list().count(i) for i in set_language]\n",
        "\n",
        "bar_list = ax.bar(['Italian', 'Portuguese', 'French', 'Turkish', 'Espanol', 'Russian'], length_list, width=0.8)\n",
        "\n",
        "labels = length_list\n",
        "\n",
        "for i, v in enumerate(labels):\n",
        "    ax.text(i, labels[i]+50, labels[i],  fontsize=12, ha='center', va='bottom')\n",
        "\n",
        "set_size(10, 10)\n",
        "\n",
        "plt.title('Classification by Languages', fontdict={'fontsize': 20}, pad=20)\n",
        "plt.xlabel('Languages', fontdict={'fontsize': 15}, labelpad=20)\n",
        "plt.ylabel('Comment\\'s number', fontdict={'fontsize': 15}, labelpad=20)\n",
        "\n",
        "plt.show()"
      ],
      "execution_count": 85,
      "outputs": [
        {
          "output_type": "display_data",
          "data": {
            "image/png": "[encoded data removed]",
            "text/plain": [
              "<Figure size 929.032x953.642 with 1 Axes>"
            ]
          },
          "metadata": {
            "tags": [],
            "needs_background": "light"
          }
        }
      ]
    },
    {
      "cell_type": "markdown",
      "metadata": {
        "id": "WBmpwyRQoN85"
      },
      "source": [
        "Classification by Length\n"
      ]
    },
    {
      "cell_type": "code",
      "metadata": {
        "colab": {
          "base_uri": "https://localhost:8080/",
          "height": 631
        },
        "id": "ufQtiHpJoXd4",
        "outputId": "57886029-00f5-49dd-b56a-39d8a082974c"
      },
      "source": [
        "length_list = np.array([len(i.split()) for i in test.content.to_list()])\n",
        "plt.hist(length_list, bins=50)\n",
        "set_size(15, 7)\n",
        "plt.title('Classification by length', fontdict={'fontsize': 32}, pad=20)\n",
        "plt.xlabel('Length', fontdict={'fontsize': 15}, labelpad=20)\n",
        "plt.ylabel('Comment\\'s number', fontdict={'fontsize': 15}, labelpad=20)\n",
        "plt.xlim((0, 250))\n",
        "plt.show()"
      ],
      "execution_count": 86,
      "outputs": [
        {
          "output_type": "display_data",
          "data": {
            "image/png": "[encoded data removed]",
            "text/plain": [
              "<Figure size 1393.55x667.55 with 1 Axes>"
            ]
          },
          "metadata": {
            "tags": [],
            "needs_background": "light"
          }
        }
      ]
    }
  ]
}